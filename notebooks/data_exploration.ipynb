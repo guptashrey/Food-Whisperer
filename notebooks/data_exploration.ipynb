{
 "cells": [
  {
   "cell_type": "code",
   "execution_count": 2,
   "metadata": {},
   "outputs": [],
   "source": [
    "import os\n",
    "import pandas as pd\n",
    "import polars as pl"
   ]
  },
  {
   "cell_type": "code",
   "execution_count": 3,
   "metadata": {},
   "outputs": [],
   "source": [
    "def load_data_pandas(data_folder_path=\"data\"):\n",
    "    # Load the interactions and recipes\n",
    "    interactions_df = pd.read_csv(os.path.join(data_folder_path, \"RAW_interactions.csv\")) \n",
    "    recipes_df = pd.read_csv(os.path.join(data_folder_path, \"RAW_recipes.csv\"))\n",
    "    \n",
    "    # Load the ingredient mapping\n",
    "    ingredient_mapping = pd.read_pickle(os.path.join(data_folder_path, \"ingr_map.pkl\"))\n",
    "    \n",
    "    # Return each\n",
    "    return interactions_df, recipes_df, ingredient_mapping\n",
    "\n",
    "def load_data_polars(data_folder_path=\"data\"):\n",
    "    # Load the interactions and recipes\n",
    "    interactions_df = pl.read_csv(os.path.join(data_folder_path, \"RAW_interactions.csv\")) \n",
    "    recipes_df = pl.read_csv(os.path.join(data_folder_path, \"RAW_recipes.csv\"))\n",
    "    \n",
    "    # Load the ingredient mapping\n",
    "    ingredient_mapping = pd.read_pickle(os.path.join(data_folder_path, \"ingr_map.pkl\"))\n",
    "    \n",
    "    # Return each\n",
    "    return interactions_df, recipes_df, ingredient_mapping"
   ]
  },
  {
   "cell_type": "code",
   "execution_count": 5,
   "metadata": {},
   "outputs": [],
   "source": [
    "interactions_df, recipes_df, ingredient_mapping = load_data_polars(data_folder_path=os.path.join(\"..\", \"data\"))"
   ]
  },
  {
   "cell_type": "code",
   "execution_count": 6,
   "metadata": {},
   "outputs": [
    {
     "data": {
      "text/html": [
       "<div><style>\n",
       ".dataframe > thead > tr > th,\n",
       ".dataframe > tbody > tr > td {\n",
       "  text-align: right;\n",
       "}\n",
       "</style>\n",
       "<small>shape: (5, 5)</small><table border=\"1\" class=\"dataframe\"><thead><tr><th>user_id</th><th>recipe_id</th><th>date</th><th>rating</th><th>review</th></tr><tr><td>i64</td><td>i64</td><td>str</td><td>i64</td><td>str</td></tr></thead><tbody><tr><td>38094</td><td>40893</td><td>&quot;2003-02-17&quot;</td><td>4</td><td>&quot;Great with a s…</td></tr><tr><td>1293707</td><td>40893</td><td>&quot;2011-12-21&quot;</td><td>5</td><td>&quot;So simple, so …</td></tr><tr><td>8937</td><td>44394</td><td>&quot;2002-12-01&quot;</td><td>4</td><td>&quot;This worked ve…</td></tr><tr><td>126440</td><td>85009</td><td>&quot;2010-02-27&quot;</td><td>5</td><td>&quot;I made the Mex…</td></tr><tr><td>57222</td><td>85009</td><td>&quot;2011-10-01&quot;</td><td>5</td><td>&quot;Made the chedd…</td></tr></tbody></table></div>"
      ],
      "text/plain": [
       "shape: (5, 5)\n",
       "┌─────────┬───────────┬────────────┬────────┬───────────────────────────────────┐\n",
       "│ user_id ┆ recipe_id ┆ date       ┆ rating ┆ review                            │\n",
       "│ ---     ┆ ---       ┆ ---        ┆ ---    ┆ ---                               │\n",
       "│ i64     ┆ i64       ┆ str        ┆ i64    ┆ str                               │\n",
       "╞═════════╪═══════════╪════════════╪════════╪═══════════════════════════════════╡\n",
       "│ 38094   ┆ 40893     ┆ 2003-02-17 ┆ 4      ┆ Great with a salad. Cooked on to… │\n",
       "│ 1293707 ┆ 40893     ┆ 2011-12-21 ┆ 5      ┆ So simple, so delicious! Great f… │\n",
       "│ 8937    ┆ 44394     ┆ 2002-12-01 ┆ 4      ┆ This worked very well and is EAS… │\n",
       "│ 126440  ┆ 85009     ┆ 2010-02-27 ┆ 5      ┆ I made the Mexican topping and t… │\n",
       "│ 57222   ┆ 85009     ┆ 2011-10-01 ┆ 5      ┆ Made the cheddar bacon topping, … │\n",
       "└─────────┴───────────┴────────────┴────────┴───────────────────────────────────┘"
      ]
     },
     "metadata": {},
     "output_type": "display_data"
    }
   ],
   "source": [
    "display(interactions_df.head())"
   ]
  },
  {
   "cell_type": "code",
   "execution_count": 7,
   "metadata": {},
   "outputs": [
    {
     "data": {
      "text/html": [
       "<div><style>\n",
       ".dataframe > thead > tr > th,\n",
       ".dataframe > tbody > tr > td {\n",
       "  text-align: right;\n",
       "}\n",
       "</style>\n",
       "<small>shape: (5, 12)</small><table border=\"1\" class=\"dataframe\"><thead><tr><th>name</th><th>id</th><th>minutes</th><th>contributor_id</th><th>submitted</th><th>tags</th><th>nutrition</th><th>n_steps</th><th>steps</th><th>description</th><th>ingredients</th><th>n_ingredients</th></tr><tr><td>str</td><td>i64</td><td>i64</td><td>i64</td><td>str</td><td>str</td><td>str</td><td>i64</td><td>str</td><td>str</td><td>str</td><td>i64</td></tr></thead><tbody><tr><td>&quot;arriba   baked…</td><td>137739</td><td>55</td><td>47892</td><td>&quot;2005-09-16&quot;</td><td>&quot;[&#x27;60-minutes-o…</td><td>&quot;[51.5, 0.0, 13…</td><td>11</td><td>&quot;[&#x27;make a choic…</td><td>&quot;autumn is my f…</td><td>&quot;[&#x27;winter squas…</td><td>7</td></tr><tr><td>&quot;a bit differen…</td><td>31490</td><td>30</td><td>26278</td><td>&quot;2002-06-17&quot;</td><td>&quot;[&#x27;30-minutes-o…</td><td>&quot;[173.4, 18.0, …</td><td>9</td><td>&quot;[&#x27;preheat oven…</td><td>&quot;this recipe ca…</td><td>&quot;[&#x27;prepared piz…</td><td>6</td></tr><tr><td>&quot;all in the kit…</td><td>112140</td><td>130</td><td>196586</td><td>&quot;2005-02-25&quot;</td><td>&quot;[&#x27;time-to-make…</td><td>&quot;[269.8, 22.0, …</td><td>6</td><td>&quot;[&#x27;brown ground…</td><td>&quot;this modified …</td><td>&quot;[&#x27;ground beef&#x27;…</td><td>13</td></tr><tr><td>&quot;alouette  pota…</td><td>59389</td><td>45</td><td>68585</td><td>&quot;2003-04-14&quot;</td><td>&quot;[&#x27;60-minutes-o…</td><td>&quot;[368.1, 17.0, …</td><td>11</td><td>&quot;[&#x27;place potato…</td><td>&quot;this is a supe…</td><td>&quot;[&#x27;spreadable c…</td><td>11</td></tr><tr><td>&quot;amish  tomato …</td><td>44061</td><td>190</td><td>41706</td><td>&quot;2002-10-25&quot;</td><td>&quot;[&#x27;weeknight&#x27;, …</td><td>&quot;[352.9, 1.0, 3…</td><td>5</td><td>&quot;[&#x27;mix all ingr…</td><td>&quot;my dh&#x27;s amish …</td><td>&quot;[&#x27;tomato juice…</td><td>8</td></tr></tbody></table></div>"
      ],
      "text/plain": [
       "shape: (5, 12)\n",
       "┌────────────┬────────┬─────────┬────────────┬───┬────────────┬───────────┬───────────┬────────────┐\n",
       "│ name       ┆ id     ┆ minutes ┆ contributo ┆ … ┆ steps      ┆ descripti ┆ ingredien ┆ n_ingredie │\n",
       "│ ---        ┆ ---    ┆ ---     ┆ r_id       ┆   ┆ ---        ┆ on        ┆ ts        ┆ nts        │\n",
       "│ str        ┆ i64    ┆ i64     ┆ ---        ┆   ┆ str        ┆ ---       ┆ ---       ┆ ---        │\n",
       "│            ┆        ┆         ┆ i64        ┆   ┆            ┆ str       ┆ str       ┆ i64        │\n",
       "╞════════════╪════════╪═════════╪════════════╪═══╪════════════╪═══════════╪═══════════╪════════════╡\n",
       "│ arriba     ┆ 137739 ┆ 55      ┆ 47892      ┆ … ┆ ['make a   ┆ autumn is ┆ ['winter  ┆ 7          │\n",
       "│ baked      ┆        ┆         ┆            ┆   ┆ choice and ┆ my        ┆ squash',  ┆            │\n",
       "│ winter     ┆        ┆         ┆            ┆   ┆ proceed    ┆ favorite  ┆ 'mexican  ┆            │\n",
       "│ squash     ┆        ┆         ┆            ┆   ┆ with…      ┆ time of   ┆ seaso…    ┆            │\n",
       "│ mex…       ┆        ┆         ┆            ┆   ┆            ┆ ye…       ┆           ┆            │\n",
       "│ a bit      ┆ 31490  ┆ 30      ┆ 26278      ┆ … ┆ ['preheat  ┆ this      ┆ ['prepare ┆ 6          │\n",
       "│ different  ┆        ┆         ┆            ┆   ┆ oven to    ┆ recipe    ┆ d pizza   ┆            │\n",
       "│ breakfast  ┆        ┆         ┆            ┆   ┆ 425        ┆ calls for ┆ crust',   ┆            │\n",
       "│ pizza      ┆        ┆         ┆            ┆   ┆ degrees    ┆ the crust ┆ 'sausag…  ┆            │\n",
       "│            ┆        ┆         ┆            ┆   ┆ f'…        ┆ …         ┆           ┆            │\n",
       "│ all in the ┆ 112140 ┆ 130     ┆ 196586     ┆ … ┆ ['brown    ┆ this      ┆ ['ground  ┆ 13         │\n",
       "│ kitchen    ┆        ┆         ┆            ┆   ┆ ground     ┆ modified  ┆ beef',    ┆            │\n",
       "│ chili      ┆        ┆         ┆            ┆   ┆ beef in    ┆ version   ┆ 'yellow   ┆            │\n",
       "│            ┆        ┆         ┆            ┆   ┆ large pot… ┆ of        ┆ onions',… ┆            │\n",
       "│            ┆        ┆         ┆            ┆   ┆            ┆ 'mom's'…  ┆           ┆            │\n",
       "│ alouette   ┆ 59389  ┆ 45      ┆ 68585      ┆ … ┆ ['place    ┆ this is a ┆ ['spreada ┆ 11         │\n",
       "│ potatoes   ┆        ┆         ┆            ┆   ┆ potatoes   ┆ super     ┆ ble       ┆            │\n",
       "│            ┆        ┆         ┆            ┆   ┆ in a large ┆ easy,     ┆ cheese    ┆            │\n",
       "│            ┆        ┆         ┆            ┆   ┆ pot …      ┆ great     ┆ with      ┆            │\n",
       "│            ┆        ┆         ┆            ┆   ┆            ┆ tast…     ┆ garlic …  ┆            │\n",
       "│ amish      ┆ 44061  ┆ 190     ┆ 41706      ┆ … ┆ ['mix all  ┆ my dh's   ┆ ['tomato  ┆ 8          │\n",
       "│ tomato     ┆        ┆         ┆            ┆   ┆ ingredient ┆ amish     ┆ juice',   ┆            │\n",
       "│ ketchup    ┆        ┆         ┆            ┆   ┆ s& boil    ┆ mother    ┆ 'apple    ┆            │\n",
       "│ for canni… ┆        ┆         ┆            ┆   ┆ for …      ┆ raised    ┆ cider vi… ┆            │\n",
       "│            ┆        ┆         ┆            ┆   ┆            ┆ him …     ┆           ┆            │\n",
       "└────────────┴────────┴─────────┴────────────┴───┴────────────┴───────────┴───────────┴────────────┘"
      ]
     },
     "metadata": {},
     "output_type": "display_data"
    }
   ],
   "source": [
    "display(recipes_df.head())"
   ]
  },
  {
   "cell_type": "code",
   "execution_count": 8,
   "metadata": {},
   "outputs": [
    {
     "data": {
      "text/plain": [
       "1284    6324\n",
       "Name: id, dtype: int16"
      ]
     },
     "metadata": {},
     "output_type": "display_data"
    }
   ],
   "source": [
    "display(ingredient_mapping[ingredient_mapping[\"raw_ingr\"] == \"sausage patty\"]['id'])"
   ]
  },
  {
   "attachments": {},
   "cell_type": "markdown",
   "metadata": {},
   "source": [
    "## Combine the data"
   ]
  },
  {
   "cell_type": "code",
   "execution_count": 14,
   "metadata": {},
   "outputs": [
    {
     "data": {
      "text/html": [
       "<div><style>\n",
       ".dataframe > thead > tr > th,\n",
       ".dataframe > tbody > tr > td {\n",
       "  text-align: right;\n",
       "}\n",
       "</style>\n",
       "<small>shape: (5, 7)</small><table border=\"1\" class=\"dataframe\"><thead><tr><th>user_id</th><th>recipe_id</th><th>minutes</th><th>nutrition</th><th>n_steps</th><th>ingredients</th><th>rating</th></tr><tr><td>i64</td><td>i64</td><td>i64</td><td>str</td><td>i64</td><td>str</td><td>i64</td></tr></thead><tbody><tr><td>38094</td><td>40893</td><td>495</td><td>&quot;[204.8, 5.0, 9…</td><td>4</td><td>&quot;[&#x27;great northe…</td><td>4</td></tr><tr><td>1293707</td><td>40893</td><td>495</td><td>&quot;[204.8, 5.0, 9…</td><td>4</td><td>&quot;[&#x27;great northe…</td><td>5</td></tr><tr><td>8937</td><td>44394</td><td>20</td><td>&quot;[132.3, 11.0, …</td><td>5</td><td>&quot;[&quot;devil&#x27;s food…</td><td>4</td></tr><tr><td>126440</td><td>85009</td><td>10</td><td>&quot;[2786.2, 342.0…</td><td>3</td><td>&quot;[&#x27;mayonnaise&#x27;,…</td><td>5</td></tr><tr><td>57222</td><td>85009</td><td>10</td><td>&quot;[2786.2, 342.0…</td><td>3</td><td>&quot;[&#x27;mayonnaise&#x27;,…</td><td>5</td></tr></tbody></table></div>"
      ],
      "text/plain": [
       "shape: (5, 7)\n",
       "┌─────────┬───────────┬─────────┬───────────────────────┬─────────┬───────────────────────┬────────┐\n",
       "│ user_id ┆ recipe_id ┆ minutes ┆ nutrition             ┆ n_steps ┆ ingredients           ┆ rating │\n",
       "│ ---     ┆ ---       ┆ ---     ┆ ---                   ┆ ---     ┆ ---                   ┆ ---    │\n",
       "│ i64     ┆ i64       ┆ i64     ┆ str                   ┆ i64     ┆ str                   ┆ i64    │\n",
       "╞═════════╪═══════════╪═════════╪═══════════════════════╪═════════╪═══════════════════════╪════════╡\n",
       "│ 38094   ┆ 40893     ┆ 495     ┆ [204.8, 5.0, 9.0,     ┆ 4       ┆ ['great northern      ┆ 4      │\n",
       "│         ┆           ┆         ┆ 26.0, 24.0, 2.…       ┆         ┆ beans', 'yellow…      ┆        │\n",
       "│ 1293707 ┆ 40893     ┆ 495     ┆ [204.8, 5.0, 9.0,     ┆ 4       ┆ ['great northern      ┆ 5      │\n",
       "│         ┆           ┆         ┆ 26.0, 24.0, 2.…       ┆         ┆ beans', 'yellow…      ┆        │\n",
       "│ 8937    ┆ 44394     ┆ 20      ┆ [132.3, 11.0, 39.0,   ┆ 5       ┆ [\"devil's food cake   ┆ 4      │\n",
       "│         ┆           ┆         ┆ 5.0, 4.0, 11…         ┆         ┆ mix\", 'veget…         ┆        │\n",
       "│ 126440  ┆ 85009     ┆ 10      ┆ [2786.2, 342.0,       ┆ 3       ┆ ['mayonnaise',        ┆ 5      │\n",
       "│         ┆           ┆         ┆ 134.0, 290.0, 16…     ┆         ┆ 'salsa', 'cheddar…    ┆        │\n",
       "│ 57222   ┆ 85009     ┆ 10      ┆ [2786.2, 342.0,       ┆ 3       ┆ ['mayonnaise',        ┆ 5      │\n",
       "│         ┆           ┆         ┆ 134.0, 290.0, 16…     ┆         ┆ 'salsa', 'cheddar…    ┆        │\n",
       "└─────────┴───────────┴─────────┴───────────────────────┴─────────┴───────────────────────┴────────┘"
      ]
     },
     "execution_count": 14,
     "metadata": {},
     "output_type": "execute_result"
    }
   ],
   "source": [
    "# Merge the interactions and recipes dataframes with polars\n",
    "combined_df = interactions_df.join(recipes_df, left_on='recipe_id', right_on=\"id\")\n",
    "combined_df = combined_df[['user_id', 'recipe_id', 'minutes', 'nutrition', 'n_steps', 'ingredients', 'rating']]\n",
    "combined_df.head()\n",
    "#combined_df = pd.merge(interactions_df, recipes_df, left_on='recipe_id', right_on=\"id\")"
   ]
  },
  {
   "attachments": {},
   "cell_type": "markdown",
   "metadata": {},
   "source": [
    "## Process the data"
   ]
  },
  {
   "cell_type": "code",
   "execution_count": 27,
   "metadata": {},
   "outputs": [
    {
     "name": "stderr",
     "output_type": "stream",
     "text": [
      "C:\\Users\\bryce\\AppData\\Local\\Temp\\ipykernel_12312\\3466683939.py:5: DeprecationWarning: `DataFrame.with_column` has been renamed; this redirect is temporary, please use `.with_columns` instead\n",
      "  processed_df = processed_df.with_columns([pl.col(\"nutrition\").str.split(\",\").alias('nutrition-split')]).explode('nutrition-split').with_column(\n"
     ]
    },
    {
     "ename": "",
     "evalue": "",
     "output_type": "error",
     "traceback": [
      "\u001b[1;31mCanceled future for execute_request message before replies were done"
     ]
    },
    {
     "ename": "",
     "evalue": "",
     "output_type": "error",
     "traceback": [
      "\u001b[1;31mThe Kernel crashed while executing code in the the current cell or a previous cell. Please review the code in the cell(s) to identify a possible cause of the failure. Click <a href='https://aka.ms/vscodeJupyterKernelCrash'>here</a> for more info. View Jupyter <a href='command:jupyter.viewOutput'>log</a> for further details."
     ]
    }
   ],
   "source": [
    "processed_df = combined_df\n",
    "new_columns = ['calories', 'total_fat', 'sugar', 'sodium', 'protein', 'saturated_fat', 'carbohydrates']\n",
    "\n",
    "# Split the nutrition column into 6 columns\n",
    "processed_df = processed_df.with_columns([pl.col(\"nutrition\").str.split(\",\").alias('nutrition-split')]).explode('nutrition-split').with_columns(\n",
    "        (\"string_\" + pl.arange(0, pl.count()).cast(pl.Utf8).str.zfill(2))\n",
    "        .alias(\"col_nm\")\n",
    "    ).pivot(\n",
    "        index=['user_id', 'recipe_id', 'minutes', 'n_steps', 'ingredients', 'rating'],\n",
    "        values='nutrition-split',\n",
    "        columns='col_nm',\n",
    "    )\n",
    "#processed_df[new_columns] = combined_df['nutrition'].str.split(',', expand=True)\n",
    "#processed_df = processed_df.drop(columns=['nutrition'])\n",
    "# Remove the [ from calories and ] from carbohydrates\n",
    "#processed_df['calories'] = processed_df['calories'].str.replace(\"[\", \"\")\n",
    "#processed_df['carbohydrates'] = processed_df['carbohydrates'].str.replace(']', '')\n",
    "\n",
    "# Replace the ingredient names with the ingredient ids\n",
    "#processed_df['ingredients'] = processed_df['ingredients']\n",
    "#processed_df['ingredients'] = processed_df['ingredients'].apply(lambda x: [ingredient_mapping[ingredient_mapping[\"raw_ingr\"] == ingredient][\"id\"] for ingredient in x])\n",
    "\n",
    "# Show the results\n",
    "processed_df.head()"
   ]
  },
  {
   "attachments": {},
   "cell_type": "markdown",
   "metadata": {},
   "source": [
    "## Split the data"
   ]
  },
  {
   "cell_type": "markdown",
   "metadata": {},
   "source": []
  }
 ],
 "metadata": {
  "kernelspec": {
   "display_name": "AIPI540",
   "language": "python",
   "name": "python3"
  },
  "language_info": {
   "codemirror_mode": {
    "name": "ipython",
    "version": 3
   },
   "file_extension": ".py",
   "mimetype": "text/x-python",
   "name": "python",
   "nbconvert_exporter": "python",
   "pygments_lexer": "ipython3",
   "version": "3.9.16"
  },
  "orig_nbformat": 4
 },
 "nbformat": 4,
 "nbformat_minor": 2
}
