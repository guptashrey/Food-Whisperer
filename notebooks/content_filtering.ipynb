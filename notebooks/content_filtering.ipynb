{
 "cells": [
  {
   "cell_type": "code",
   "execution_count": 1,
   "metadata": {},
   "outputs": [],
   "source": [
    "import os\n",
    "import sys\n",
    "sys.path.append('..')\n",
    "\n",
    "from scripts.data_processing import load_processed_recipes, load_raw_recipes\n",
    "\n",
    "import pandas as pd\n",
    "import numpy as np\n",
    "import numba\n",
    "\n",
    "from sklearn.preprocessing import MinMaxScaler\n",
    "from sklearn.metrics.pairwise import cosine_similarity\n",
    "from sklearn.feature_extraction.text import CountVectorizer\n",
    "from sklearn.model_selection import train_test_split"
   ]
  },
  {
   "cell_type": "markdown",
   "metadata": {},
   "source": [
    "## Load the data"
   ]
  },
  {
   "cell_type": "code",
   "execution_count": 50,
   "metadata": {},
   "outputs": [],
   "source": [
    "# Load the data\n",
    "recipes_df = load_processed_recipes(data_folder_path=os.path.join('..', 'data', 'processed'))\n",
    "#recipes_df.index = recipes_df[\"id\"]\n",
    "#recipes_df.drop(columns=[\"id\"], inplace=False)"
   ]
  },
  {
   "cell_type": "code",
   "execution_count": null,
   "metadata": {},
   "outputs": [],
   "source": [
    "recipes_df.iloc[:, 1:][recipes_df[\"id\"]==38].to_numpy()"
   ]
  },
  {
   "cell_type": "code",
   "execution_count": 64,
   "metadata": {},
   "outputs": [
    {
     "data": {
      "text/plain": [
       "(967,)"
      ]
     },
     "execution_count": 64,
     "metadata": {},
     "output_type": "execute_result"
    }
   ],
   "source": [
    "recipes_df.iloc[:, 1:][recipes_df[\"id\"]==38].to_numpy().squeeze()"
   ]
  },
  {
   "cell_type": "code",
   "execution_count": 58,
   "metadata": {},
   "outputs": [],
   "source": [
    "final_np_array = recipes_df.iloc[:, 1:].to_numpy()"
   ]
  },
  {
   "cell_type": "code",
   "execution_count": 4,
   "metadata": {},
   "outputs": [],
   "source": [
    "@numba.jit(nopython=True, parallel=True)\n",
    "def fast_cosine_matrix(u, M):\n",
    "    scores = np.zeros(M.shape[0])\n",
    "    for i in numba.prange(M.shape[0]):\n",
    "        v = M[i]\n",
    "        m = u.shape[0]\n",
    "        udotv = 0\n",
    "        u_norm = 0\n",
    "        v_norm = 0\n",
    "        for j in range(m):\n",
    "            if (np.isnan(u[j])) or (np.isnan(v[j])):\n",
    "                continue\n",
    "\n",
    "            udotv += u[j] * v[j]\n",
    "            u_norm += u[j] * u[j]\n",
    "            v_norm += v[j] * v[j]\n",
    "\n",
    "        u_norm = np.sqrt(u_norm)\n",
    "        v_norm = np.sqrt(v_norm)\n",
    "\n",
    "        if (u_norm == 0) or (v_norm == 0):\n",
    "            ratio = 1.0\n",
    "        else:\n",
    "            ratio = udotv / (u_norm * v_norm)\n",
    "        scores[i] = ratio\n",
    "    return scores"
   ]
  },
  {
   "cell_type": "code",
   "execution_count": 87,
   "metadata": {},
   "outputs": [],
   "source": [
    "def get_top_n_recipe_ids(recipes_df, recipe_id, top_n=5):\n",
    "    u = recipes_df.iloc[:, 1:][recipes_df[\"id\"]==recipe_id].to_numpy().squeeze()\n",
    "    M = recipes_df.iloc[:, 1:].to_numpy()\n",
    "    \n",
    "    res = fast_cosine_matrix(u, M)\n",
    "    res = np.argsort(res)[-(top_n+1):][:-1]\n",
    "    return list(recipes_df.iloc[res].id)"
   ]
  },
  {
   "cell_type": "code",
   "execution_count": 90,
   "metadata": {},
   "outputs": [
    {
     "data": {
      "text/plain": [
       "[211779, 410225, 310642, 53600, 375996]"
      ]
     },
     "execution_count": 90,
     "metadata": {},
     "output_type": "execute_result"
    }
   ],
   "source": [
    "get_top_n_recipe_ids(recipes_df, 38)"
   ]
  },
  {
   "cell_type": "code",
   "execution_count": 5,
   "metadata": {},
   "outputs": [],
   "source": [
    "u = final_np_array[0]\n",
    "M = final_np_array"
   ]
  },
  {
   "cell_type": "code",
   "execution_count": 6,
   "metadata": {},
   "outputs": [
    {
     "data": {
      "text/plain": [
       "(231637, 967)"
      ]
     },
     "execution_count": 6,
     "metadata": {},
     "output_type": "execute_result"
    }
   ],
   "source": [
    "M.shape"
   ]
  },
  {
   "cell_type": "code",
   "execution_count": 21,
   "metadata": {},
   "outputs": [],
   "source": [
    "res = fast_cosine_matrix(u, M)"
   ]
  },
  {
   "cell_type": "code",
   "execution_count": 37,
   "metadata": {},
   "outputs": [
    {
     "data": {
      "text/plain": [
       "(231637,)"
      ]
     },
     "execution_count": 37,
     "metadata": {},
     "output_type": "execute_result"
    }
   ],
   "source": [
    "res.shape"
   ]
  },
  {
   "cell_type": "code",
   "execution_count": 65,
   "metadata": {},
   "outputs": [
    {
     "data": {
      "text/plain": [
       "array([118102, 202397, 164065,  30211, 190300])"
      ]
     },
     "execution_count": 65,
     "metadata": {},
     "output_type": "execute_result"
    }
   ],
   "source": [
    "np.argsort(res)[-6:][:-1]"
   ]
  },
  {
   "cell_type": "code",
   "execution_count": 75,
   "metadata": {},
   "outputs": [
    {
     "data": {
      "text/plain": [
       "[211779, 410225, 310642, 53600, 375996]"
      ]
     },
     "execution_count": 75,
     "metadata": {},
     "output_type": "execute_result"
    }
   ],
   "source": [
    "list(recipes_df.iloc[np.argsort(res)[-6:][:-1]].id)"
   ]
  },
  {
   "cell_type": "code",
   "execution_count": 18,
   "metadata": {},
   "outputs": [],
   "source": [
    "abc = recipes_df.astype(np.float16).iloc[:, 1:]"
   ]
  },
  {
   "cell_type": "code",
   "execution_count": 9,
   "metadata": {},
   "outputs": [],
   "source": [
    "recipes_array = np.array(recipes_df)\n",
    "recipes_array = np.float16(recipes_array)"
   ]
  },
  {
   "cell_type": "code",
   "execution_count": null,
   "metadata": {},
   "outputs": [],
   "source": [
    "similarity = np.dot(recipes_array, recipes_array.T)"
   ]
  },
  {
   "cell_type": "code",
   "execution_count": 21,
   "metadata": {},
   "outputs": [
    {
     "data": {
      "text/plain": [
       "numpy.ndarray"
      ]
     },
     "execution_count": 21,
     "metadata": {},
     "output_type": "execute_result"
    }
   ],
   "source": [
    "type(recipes_array)"
   ]
  },
  {
   "cell_type": "code",
   "execution_count": null,
   "metadata": {},
   "outputs": [],
   "source": [
    "similarity = np.dot(A, A.T)\n",
    "\n",
    "# squared magnitude of preference vectors (number of occurrences)\n",
    "square_mag = np.diag(similarity)\n",
    "\n",
    "# inverse squared magnitude\n",
    "inv_square_mag = 1 / square_mag\n",
    "\n",
    "# if it doesn't occur, set it's inverse magnitude to zero (instead of inf)\n",
    "inv_square_mag[np.isinf(inv_square_mag)] = 0\n",
    "\n",
    "# inverse of the magnitude\n",
    "inv_mag = np.sqrt(inv_square_mag)\n",
    "\n",
    "# cosine similarity (elementwise multiply by inverse magnitudes)\n",
    "cosine = similarity * inv_mag\n",
    "return cosine.T * inv_mag"
   ]
  },
  {
   "cell_type": "code",
   "execution_count": null,
   "metadata": {},
   "outputs": [
    {
     "data": {
      "text/html": [
       "<div>\n",
       "<style scoped>\n",
       "    .dataframe tbody tr th:only-of-type {\n",
       "        vertical-align: middle;\n",
       "    }\n",
       "\n",
       "    .dataframe tbody tr th {\n",
       "        vertical-align: top;\n",
       "    }\n",
       "\n",
       "    .dataframe thead th {\n",
       "        text-align: right;\n",
       "    }\n",
       "</style>\n",
       "<table border=\"1\" class=\"dataframe\">\n",
       "  <thead>\n",
       "    <tr style=\"text-align: right;\">\n",
       "      <th>id</th>\n",
       "      <th>38</th>\n",
       "      <th>39</th>\n",
       "      <th>40</th>\n",
       "      <th>41</th>\n",
       "      <th>43</th>\n",
       "      <th>45</th>\n",
       "      <th>48</th>\n",
       "      <th>49</th>\n",
       "      <th>50</th>\n",
       "      <th>52</th>\n",
       "      <th>...</th>\n",
       "      <th>207</th>\n",
       "      <th>209</th>\n",
       "      <th>212</th>\n",
       "      <th>213</th>\n",
       "      <th>215</th>\n",
       "      <th>216</th>\n",
       "      <th>223</th>\n",
       "      <th>224</th>\n",
       "      <th>226</th>\n",
       "      <th>229</th>\n",
       "    </tr>\n",
       "    <tr>\n",
       "      <th>id</th>\n",
       "      <th></th>\n",
       "      <th></th>\n",
       "      <th></th>\n",
       "      <th></th>\n",
       "      <th></th>\n",
       "      <th></th>\n",
       "      <th></th>\n",
       "      <th></th>\n",
       "      <th></th>\n",
       "      <th></th>\n",
       "      <th></th>\n",
       "      <th></th>\n",
       "      <th></th>\n",
       "      <th></th>\n",
       "      <th></th>\n",
       "      <th></th>\n",
       "      <th></th>\n",
       "      <th></th>\n",
       "      <th></th>\n",
       "      <th></th>\n",
       "      <th></th>\n",
       "    </tr>\n",
       "  </thead>\n",
       "  <tbody>\n",
       "    <tr>\n",
       "      <th>38</th>\n",
       "      <td>1.000000</td>\n",
       "      <td>0.993135</td>\n",
       "      <td>0.998412</td>\n",
       "      <td>0.997251</td>\n",
       "      <td>0.993387</td>\n",
       "      <td>0.997475</td>\n",
       "      <td>0.994331</td>\n",
       "      <td>0.996211</td>\n",
       "      <td>0.997216</td>\n",
       "      <td>0.998368</td>\n",
       "      <td>...</td>\n",
       "      <td>0.998957</td>\n",
       "      <td>0.998879</td>\n",
       "      <td>0.998927</td>\n",
       "      <td>0.998987</td>\n",
       "      <td>0.998468</td>\n",
       "      <td>0.998384</td>\n",
       "      <td>0.998885</td>\n",
       "      <td>0.998957</td>\n",
       "      <td>0.999091</td>\n",
       "      <td>0.998938</td>\n",
       "    </tr>\n",
       "    <tr>\n",
       "      <th>39</th>\n",
       "      <td>0.993135</td>\n",
       "      <td>1.000000</td>\n",
       "      <td>0.993135</td>\n",
       "      <td>0.993196</td>\n",
       "      <td>0.991388</td>\n",
       "      <td>0.992666</td>\n",
       "      <td>0.992831</td>\n",
       "      <td>0.994599</td>\n",
       "      <td>0.992596</td>\n",
       "      <td>0.992582</td>\n",
       "      <td>...</td>\n",
       "      <td>0.994379</td>\n",
       "      <td>0.994662</td>\n",
       "      <td>0.994501</td>\n",
       "      <td>0.994519</td>\n",
       "      <td>0.995097</td>\n",
       "      <td>0.994857</td>\n",
       "      <td>0.994502</td>\n",
       "      <td>0.994620</td>\n",
       "      <td>0.994774</td>\n",
       "      <td>0.994639</td>\n",
       "    </tr>\n",
       "    <tr>\n",
       "      <th>40</th>\n",
       "      <td>0.998412</td>\n",
       "      <td>0.993135</td>\n",
       "      <td>1.000000</td>\n",
       "      <td>0.995956</td>\n",
       "      <td>0.991886</td>\n",
       "      <td>0.998118</td>\n",
       "      <td>0.993245</td>\n",
       "      <td>0.995298</td>\n",
       "      <td>0.998012</td>\n",
       "      <td>0.999356</td>\n",
       "      <td>...</td>\n",
       "      <td>0.999062</td>\n",
       "      <td>0.999123</td>\n",
       "      <td>0.999155</td>\n",
       "      <td>0.999120</td>\n",
       "      <td>0.998728</td>\n",
       "      <td>0.998432</td>\n",
       "      <td>0.999011</td>\n",
       "      <td>0.999174</td>\n",
       "      <td>0.998943</td>\n",
       "      <td>0.999138</td>\n",
       "    </tr>\n",
       "    <tr>\n",
       "      <th>41</th>\n",
       "      <td>0.997251</td>\n",
       "      <td>0.993196</td>\n",
       "      <td>0.995956</td>\n",
       "      <td>1.000000</td>\n",
       "      <td>0.993954</td>\n",
       "      <td>0.995904</td>\n",
       "      <td>0.994646</td>\n",
       "      <td>0.995992</td>\n",
       "      <td>0.994849</td>\n",
       "      <td>0.996292</td>\n",
       "      <td>...</td>\n",
       "      <td>0.997159</td>\n",
       "      <td>0.997233</td>\n",
       "      <td>0.997140</td>\n",
       "      <td>0.997239</td>\n",
       "      <td>0.997195</td>\n",
       "      <td>0.996982</td>\n",
       "      <td>0.997211</td>\n",
       "      <td>0.997166</td>\n",
       "      <td>0.997311</td>\n",
       "      <td>0.997281</td>\n",
       "    </tr>\n",
       "    <tr>\n",
       "      <th>43</th>\n",
       "      <td>0.993387</td>\n",
       "      <td>0.991388</td>\n",
       "      <td>0.991886</td>\n",
       "      <td>0.993954</td>\n",
       "      <td>1.000000</td>\n",
       "      <td>0.992715</td>\n",
       "      <td>0.997897</td>\n",
       "      <td>0.994834</td>\n",
       "      <td>0.991393</td>\n",
       "      <td>0.991233</td>\n",
       "      <td>...</td>\n",
       "      <td>0.992753</td>\n",
       "      <td>0.993084</td>\n",
       "      <td>0.993064</td>\n",
       "      <td>0.993313</td>\n",
       "      <td>0.992814</td>\n",
       "      <td>0.992872</td>\n",
       "      <td>0.992970</td>\n",
       "      <td>0.993063</td>\n",
       "      <td>0.993611</td>\n",
       "      <td>0.993417</td>\n",
       "    </tr>\n",
       "  </tbody>\n",
       "</table>\n",
       "<p>5 rows × 100 columns</p>\n",
       "</div>"
      ],
      "text/plain": [
       "id       38        39        40        41        43        45        48    \n",
       "id                                                                         \n",
       "38  1.000000  0.993135  0.998412  0.997251  0.993387  0.997475  0.994331  \\\n",
       "39  0.993135  1.000000  0.993135  0.993196  0.991388  0.992666  0.992831   \n",
       "40  0.998412  0.993135  1.000000  0.995956  0.991886  0.998118  0.993245   \n",
       "41  0.997251  0.993196  0.995956  1.000000  0.993954  0.995904  0.994646   \n",
       "43  0.993387  0.991388  0.991886  0.993954  1.000000  0.992715  0.997897   \n",
       "\n",
       "id       49        50        52   ...       207       209       212       213   \n",
       "id                                ...                                           \n",
       "38  0.996211  0.997216  0.998368  ...  0.998957  0.998879  0.998927  0.998987  \\\n",
       "39  0.994599  0.992596  0.992582  ...  0.994379  0.994662  0.994501  0.994519   \n",
       "40  0.995298  0.998012  0.999356  ...  0.999062  0.999123  0.999155  0.999120   \n",
       "41  0.995992  0.994849  0.996292  ...  0.997159  0.997233  0.997140  0.997239   \n",
       "43  0.994834  0.991393  0.991233  ...  0.992753  0.993084  0.993064  0.993313   \n",
       "\n",
       "id       215       216       223       224       226       229  \n",
       "id                                                              \n",
       "38  0.998468  0.998384  0.998885  0.998957  0.999091  0.998938  \n",
       "39  0.995097  0.994857  0.994502  0.994620  0.994774  0.994639  \n",
       "40  0.998728  0.998432  0.999011  0.999174  0.998943  0.999138  \n",
       "41  0.997195  0.996982  0.997211  0.997166  0.997311  0.997281  \n",
       "43  0.992814  0.992872  0.992970  0.993063  0.993611  0.993417  \n",
       "\n",
       "[5 rows x 100 columns]"
      ]
     },
     "execution_count": 26,
     "metadata": {},
     "output_type": "execute_result"
    }
   ],
   "source": [
    "# Use of a subset right now\n",
    "subest_recipes_df = recipes_df_norm.iloc[:100, :]\n",
    "# Build similarity marrix of movies based on similarity of genres\n",
    "csmatrix = cosine_similarity(recipes_df)\n",
    "csmatrix = pd.DataFrame(csmatrix,columns=subest_recipes_df['id'],index=subest_recipes_df['id'])\n",
    "csmatrix.head()"
   ]
  },
  {
   "cell_type": "code",
   "execution_count": null,
   "metadata": {},
   "outputs": [],
   "source": [
    "def most_similar_recipe(recipes_df, recipes_df_processed, recipe_id, top_n=10):\n",
    "    top_recipe_names = []\n",
    "    top_recipe_ids = []\n",
    "    \n",
    "    # Build the similarity matrix of recipes\n",
    "    csmatrix = cosine_similarity(recipes_df_norm)\n",
    "    csmatrix = pd.DataFrame(csmatrix,columns=recipes_df_norm['id'],index=recipes_df_norm['id'])\n",
    "    \n",
    "    # Get the top n most similar recipes\n",
    "    most_similar_recipes = csmatrix.loc[recipe_id, :].sort_values(ascending=False).index[1:top_n+1]\n",
    "    for recipe in most_similar_recipes:\n",
    "        top_recipe_names.append(recipes_df[recipes_df['id'] == recipe]['name'])\n",
    "        top_recipe_ids.append(recipe)\n",
    "    \n",
    "    # Return the top names and ids\n",
    "    return top_recipe_names, top_recipe_ids   \n",
    "    "
   ]
  },
  {
   "cell_type": "code",
   "execution_count": null,
   "metadata": {},
   "outputs": [
    {
     "name": "stdout",
     "output_type": "stream",
     "text": [
      "Top Recipe name: 23695    biryani\n",
      "Name: name, dtype: object\n"
     ]
    },
    {
     "data": {
      "text/plain": [
       "[46956    chicken fried steak with cracked pepper gravy\n",
       " Name: name, dtype: object,\n",
       " 32064    butterflied lamb with garlic butter\n",
       " Name: name, dtype: object,\n",
       " 54270    citrus baked halibut\n",
       " Name: name, dtype: object,\n",
       " 54546    clam   lobster bake\n",
       " Name: name, dtype: object,\n",
       " 2012    a new spaghetti with clams\n",
       " Name: name, dtype: object,\n",
       " 53707    cinnamon curry rice\n",
       " Name: name, dtype: object,\n",
       " 42595    chicken and broccoli lasagna\n",
       " Name: name, dtype: object,\n",
       " 36729    carrie s pizza rolls\n",
       " Name: name, dtype: object,\n",
       " 49636    chocolate cashew spread\n",
       " Name: name, dtype: object,\n",
       " 65682    crock pot chocolate zucchini nut bread\n",
       " Name: name, dtype: object]"
      ]
     },
     "metadata": {},
     "output_type": "display_data"
    },
    {
     "data": {
      "text/plain": [
       "[187, 109, 201, 196, 115, 205, 112, 141, 216, 215]"
      ]
     },
     "metadata": {},
     "output_type": "display_data"
    }
   ],
   "source": [
    "recipes_df = load_raw_recipes(data_folder_path=os.path.join('..', 'data'))\n",
    "recipes_df_processed = load_processed_recipes(data_folder_path=os.path.join('..', 'data', 'processed'))\n",
    "subset_df = recipes_df_processed.iloc[:100, :]\n",
    "\n",
    "top_recipes, top_recipe_ids = most_similar_recipe(recipes_df, subset_df, 39, top_n=10)\n",
    "print(f\"Top Recipe name: {recipes_df[recipes_df['id'] == 39]['name']}\")\n",
    "display(top_recipes)\n",
    "display(top_recipe_ids)"
   ]
  },
  {
   "cell_type": "markdown",
   "metadata": {},
   "source": [
    "## Generate Predicted Ratings"
   ]
  },
  {
   "cell_type": "code",
   "execution_count": 57,
   "metadata": {},
   "outputs": [
    {
     "data": {
      "text/html": [
       "<div>\n",
       "<style scoped>\n",
       "    .dataframe tbody tr th:only-of-type {\n",
       "        vertical-align: middle;\n",
       "    }\n",
       "\n",
       "    .dataframe tbody tr th {\n",
       "        vertical-align: top;\n",
       "    }\n",
       "\n",
       "    .dataframe thead th {\n",
       "        text-align: right;\n",
       "    }\n",
       "</style>\n",
       "<table border=\"1\" class=\"dataframe\">\n",
       "  <thead>\n",
       "    <tr style=\"text-align: right;\">\n",
       "      <th></th>\n",
       "      <th>name</th>\n",
       "      <th>id</th>\n",
       "      <th>minutes</th>\n",
       "      <th>contributor_id</th>\n",
       "      <th>submitted</th>\n",
       "      <th>tags</th>\n",
       "      <th>nutrition</th>\n",
       "      <th>n_steps</th>\n",
       "      <th>steps</th>\n",
       "      <th>description</th>\n",
       "      <th>ingredients</th>\n",
       "      <th>n_ingredients</th>\n",
       "    </tr>\n",
       "  </thead>\n",
       "  <tbody>\n",
       "    <tr>\n",
       "      <th>23695</th>\n",
       "      <td>biryani</td>\n",
       "      <td>39</td>\n",
       "      <td>265</td>\n",
       "      <td>1567</td>\n",
       "      <td>1999-08-29</td>\n",
       "      <td>['weeknight', 'time-to-make', 'course', 'main-...</td>\n",
       "      <td>[1110.7, 90.0, 81.0, 15.0, 126.0, 82.0, 28.0]</td>\n",
       "      <td>17</td>\n",
       "      <td>['soak saffron in warm milk for 5 minutes and ...</td>\n",
       "      <td>delhi, india</td>\n",
       "      <td>['saffron', 'milk', 'hot green chili peppers',...</td>\n",
       "      <td>26</td>\n",
       "    </tr>\n",
       "  </tbody>\n",
       "</table>\n",
       "</div>"
      ],
      "text/plain": [
       "          name  id  minutes  contributor_id   submitted   \n",
       "23695  biryani  39      265            1567  1999-08-29  \\\n",
       "\n",
       "                                                    tags   \n",
       "23695  ['weeknight', 'time-to-make', 'course', 'main-...  \\\n",
       "\n",
       "                                           nutrition  n_steps   \n",
       "23695  [1110.7, 90.0, 81.0, 15.0, 126.0, 82.0, 28.0]       17  \\\n",
       "\n",
       "                                                   steps   description   \n",
       "23695  ['soak saffron in warm milk for 5 minutes and ...  delhi, india  \\\n",
       "\n",
       "                                             ingredients  n_ingredients  \n",
       "23695  ['saffron', 'milk', 'hot green chili peppers',...             26  "
      ]
     },
     "execution_count": 57,
     "metadata": {},
     "output_type": "execute_result"
    }
   ],
   "source": [
    "recipes_df[recipes_df['id'] == 39]"
   ]
  },
  {
   "cell_type": "code",
   "execution_count": null,
   "metadata": {},
   "outputs": [],
   "source": []
  }
 ],
 "metadata": {
  "kernelspec": {
   "display_name": "recsys",
   "language": "python",
   "name": "recsys"
  },
  "language_info": {
   "codemirror_mode": {
    "name": "ipython",
    "version": 3
   },
   "file_extension": ".py",
   "mimetype": "text/x-python",
   "name": "python",
   "nbconvert_exporter": "python",
   "pygments_lexer": "ipython3",
   "version": "3.8.16"
  }
 },
 "nbformat": 4,
 "nbformat_minor": 4
}
