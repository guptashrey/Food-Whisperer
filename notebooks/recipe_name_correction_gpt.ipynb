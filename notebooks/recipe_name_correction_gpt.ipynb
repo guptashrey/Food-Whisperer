{
 "cells": [
  {
   "cell_type": "code",
   "execution_count": null,
   "metadata": {},
   "outputs": [],
   "source": [
    "import openai\n",
    "from tqdm import tqdm\n",
    "import pandas as pd\n",
    "import time"
   ]
  },
  {
   "cell_type": "code",
   "execution_count": null,
   "metadata": {},
   "outputs": [],
   "source": [
    "recipes = pd.read_csv(\"../data/processed/processed_recipes_for_display.csv\")\n",
    "list_of_names = list(recipes.name)"
   ]
  },
  {
   "cell_type": "code",
   "execution_count": null,
   "metadata": {},
   "outputs": [],
   "source": [
    "openai.api_key = \"sk-xxxxxxxxxxxxxxxxxxxxxxxxxxxxxxxxxxxxxxxx\""
   ]
  },
  {
   "cell_type": "code",
   "execution_count": null,
   "metadata": {},
   "outputs": [],
   "source": [
    "# def correct_name(text):\n",
    "#     completion = openai.ChatCompletion.create(\n",
    "#         model=\"gpt-3.5-turbo\",\n",
    "#         messages=[\n",
    "#             {\"role\": \"user\",\n",
    "#              \"content\": f\"I have a messy recipe name. Can you give me the exact recipe name after removing all numbers? '{text}'\"}\n",
    "#         ]\n",
    "#     )\n",
    "\n",
    "#     corrected_text = dict(completion.choices[0].message)[\"content\"].replace(\"\\n\", \"\")\n",
    "\n",
    "#     return corrected_text"
   ]
  },
  {
   "cell_type": "code",
   "execution_count": null,
   "metadata": {},
   "outputs": [],
   "source": [
    "def correct_name(text):\n",
    "    completion = openai.Completion.create(\n",
    "        model=\"text-davinci-003\",\n",
    "        prompt=f\"I have a messy recipe name. Can you give me the exact recipe name after removing all numbers? '{text}'\"\n",
    "    )\n",
    "\n",
    "    corrected_text = str.replace(completion[\"choices\"][0][\"text\"], \"\\n\", \"\")\n",
    "\n",
    "    return corrected_text"
   ]
  },
  {
   "cell_type": "code",
   "execution_count": null,
   "metadata": {},
   "outputs": [],
   "source": [
    "mapping = {}"
   ]
  },
  {
   "cell_type": "code",
   "execution_count": null,
   "metadata": {},
   "outputs": [],
   "source": [
    "i = 0\n",
    "for name in tqdm(list_of_names):\n",
    "    corrected_name = correct_name(name)\n",
    "    time.sleep(0.5)\n",
    "    mapping[name] = corrected_name\n",
    "    if i%10 == 0:\n",
    "        pd.DataFrame.from_dict(mapping, orient=\"index\").to_csv(\"../data/processed/recipe_name_mapping1.csv\")\n",
    "    i += 1"
   ]
  }
 ],
 "metadata": {
  "kernelspec": {
   "display_name": "recsys",
   "language": "python",
   "name": "python3"
  },
  "language_info": {
   "codemirror_mode": {
    "name": "ipython",
    "version": 3
   },
   "file_extension": ".py",
   "mimetype": "text/x-python",
   "name": "python",
   "nbconvert_exporter": "python",
   "pygments_lexer": "ipython3",
   "version": "3.8.16"
  },
  "orig_nbformat": 4
 },
 "nbformat": 4,
 "nbformat_minor": 2
}
